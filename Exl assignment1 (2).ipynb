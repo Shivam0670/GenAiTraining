{
 "cells": [
  {
   "cell_type": "code",
   "execution_count": 1,
   "id": "e71efefd-756c-4bf8-9e86-e802660e826b",
   "metadata": {
    "tags": []
   },
   "outputs": [],
   "source": [
    "sentence = 'My first python programm'"
   ]
  },
  {
   "cell_type": "code",
   "execution_count": 16,
   "id": "91e47873-b01b-4bd9-88a5-07fa163be37b",
   "metadata": {
    "tags": []
   },
   "outputs": [
    {
     "data": {
      "text/plain": [
       "'yM tsrif nohtyp mmargorp'"
      ]
     },
     "execution_count": 16,
     "metadata": {},
     "output_type": "execute_result"
    }
   ],
   "source": [
    "words = sentence.split()\n",
    "words1= words[::-1]\n",
    "reverse = [word[::-1] for word in words]\n",
    "' '.join(reverse)"
   ]
  },
  {
   "cell_type": "code",
   "execution_count": 20,
   "id": "8ee2e85f-910b-4994-84ff-1048e73ed2ba",
   "metadata": {
    "tags": []
   },
   "outputs": [],
   "source": [
    "def sentence_reversal(sentence):\n",
    "    words = sentence.split()\n",
    "    reverse = [word[::-1] for word in words]\n",
    "    return ' '.join(reverse)\n",
    "    "
   ]
  },
  {
   "cell_type": "code",
   "execution_count": 21,
   "id": "9f54b959-ebb6-4c8a-887f-d7641c5bfcc9",
   "metadata": {
    "tags": []
   },
   "outputs": [
    {
     "data": {
      "text/plain": [
       "'yM tsrif nohtyp mmargorp'"
      ]
     },
     "execution_count": 21,
     "metadata": {},
     "output_type": "execute_result"
    }
   ],
   "source": [
    "sentence_reversal(sentence)"
   ]
  },
  {
   "cell_type": "code",
   "execution_count": 22,
   "id": "d6f53690-7b30-4b6f-b55f-66b891567c33",
   "metadata": {
    "tags": []
   },
   "outputs": [
    {
     "name": "stdout",
     "output_type": "stream",
     "text": [
      "[(), (1,), (2,), (3,), (1, 2), (1, 3), (2, 3), (1, 2, 3)]\n"
     ]
    }
   ],
   "source": [
    "from itertools import chain, combinations\n",
    "\n",
    "def power_set(iterable):\n",
    "    s = list(iterable)\n",
    "    return list(chain.from_iterable(combinations(s, r) for r in range(len(s) + 1)))\n",
    "\n",
    "# Example usage\n",
    "input_set = {1, 2, 3}\n",
    "print(power_set(input_set))"
   ]
  },
  {
   "cell_type": "code",
   "execution_count": null,
   "id": "69ce2e3a-693f-4910-ab42-c4a4569a6ee1",
   "metadata": {},
   "outputs": [],
   "source": []
  },
  {
   "cell_type": "code",
   "execution_count": 28,
   "id": "0b3e04bf-e91e-443f-9307-3a8937ca8c34",
   "metadata": {
    "tags": []
   },
   "outputs": [],
   "source": [
    "#Q3"
   ]
  },
  {
   "cell_type": "code",
   "execution_count": 187,
   "id": "f96a7791-b17c-46f1-a498-8fde3aa21cd7",
   "metadata": {
    "tags": []
   },
   "outputs": [],
   "source": [
    "user_input = '1,2,3,4,5,string'"
   ]
  },
  {
   "cell_type": "code",
   "execution_count": 190,
   "id": "6f6a52af-3fa4-439c-b9d9-5484e38eec73",
   "metadata": {
    "tags": []
   },
   "outputs": [],
   "source": [
    "import re\n",
    "list = re.split(r\"[;,]\", user_input)"
   ]
  },
  {
   "cell_type": "code",
   "execution_count": 191,
   "id": "1754066a-176f-4046-8a62-ea7f8ee49847",
   "metadata": {
    "tags": []
   },
   "outputs": [
    {
     "data": {
      "text/plain": [
       "['1', '2', '3', '4', '5', 'string']"
      ]
     },
     "execution_count": 191,
     "metadata": {},
     "output_type": "execute_result"
    }
   ],
   "source": [
    "list"
   ]
  },
  {
   "cell_type": "code",
   "execution_count": 192,
   "id": "81057df0-11c7-474f-bfd3-57a3717a29fb",
   "metadata": {
    "tags": []
   },
   "outputs": [],
   "source": [
    "#Q4"
   ]
  },
  {
   "cell_type": "code",
   "execution_count": 65,
   "id": "4a75216a-28d7-43c0-b99b-5a42de660979",
   "metadata": {
    "tags": []
   },
   "outputs": [],
   "source": [
    "def text_split(text, chunk, overlap):\n",
    "    chunked = []\n",
    "    for i in range(0, len(text), chunk):\n",
    "        i = i-overlap\n",
    "        if i<0:\n",
    "            i=1\n",
    "        else:\n",
    "            i=i\n",
    "        chunked.append(text[i:chunk+i])\n",
    "    return chunked\n"
   ]
  },
  {
   "cell_type": "code",
   "execution_count": 66,
   "id": "b774335a-294e-4891-ac96-331039a3415d",
   "metadata": {
    "tags": []
   },
   "outputs": [
    {
     "data": {
      "text/plain": [
       "['his i', 's is ', 'my fi', 'rst s', 'tring']"
      ]
     },
     "execution_count": 66,
     "metadata": {},
     "output_type": "execute_result"
    }
   ],
   "source": [
    "text_split(user_input, 5, 2)"
   ]
  },
  {
   "cell_type": "code",
   "execution_count": 67,
   "id": "fde83387-9cb2-4c27-9678-e42574562fbc",
   "metadata": {
    "tags": []
   },
   "outputs": [],
   "source": [
    "# Q5"
   ]
  },
  {
   "cell_type": "code",
   "execution_count": 79,
   "id": "52067e60-bb92-495f-9a34-3a425cf2879c",
   "metadata": {
    "tags": []
   },
   "outputs": [],
   "source": [
    "def string_operator(text):\n",
    "    lis = text.split(\" \")\n",
    "    longest_word = max(lis, key=len)\n",
    "    result = ''.join(word.capitalize() for word in text.split())\n",
    "    return  ((len(lis), longest_word, result))\n",
    "        "
   ]
  },
  {
   "cell_type": "code",
   "execution_count": 177,
   "id": "90b58b0d-7d1c-42e2-a4fe-6ea5b661472b",
   "metadata": {
    "tags": []
   },
   "outputs": [
    {
     "name": "stdout",
     "output_type": "stream",
     "text": [
      "[]\n"
     ]
    }
   ],
   "source": []
  },
  {
   "cell_type": "code",
   "execution_count": null,
   "id": "6b8bfbce-9313-444d-be30-5b1d2dd8216e",
   "metadata": {},
   "outputs": [],
   "source": []
  },
  {
   "cell_type": "code",
   "execution_count": null,
   "id": "8c32ed08-8356-48d9-8c90-72294c9b640c",
   "metadata": {},
   "outputs": [],
   "source": []
  }
 ],
 "metadata": {
  "kernelspec": {
   "display_name": "Python 3 (ipykernel)",
   "language": "python",
   "name": "python3"
  },
  "language_info": {
   "codemirror_mode": {
    "name": "ipython",
    "version": 3
   },
   "file_extension": ".py",
   "mimetype": "text/x-python",
   "name": "python",
   "nbconvert_exporter": "python",
   "pygments_lexer": "ipython3",
   "version": "3.11.5"
  }
 },
 "nbformat": 4,
 "nbformat_minor": 5
}
